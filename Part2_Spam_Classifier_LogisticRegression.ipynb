{
 "cells": [
  {
   "cell_type": "markdown",
   "id": "019fad6f",
   "metadata": {},
   "source": [
    "### 1. 📧 Spam Email Classifier (logistic regression Model)\n",
    "This notebook loads raw `.eml` files from folders, processes and trains a spam classifier using a logistic regression model."
   ]
  },
  {
   "cell_type": "markdown",
   "id": "fb7e5c76",
   "metadata": {},
   "source": [
    "### 2. Import Libraries and Setup"
   ]
  },
  {
   "cell_type": "code",
   "execution_count": 34,
   "id": "bbf2fc9f",
   "metadata": {},
   "outputs": [],
   "source": [
    "\n",
    "import os\n",
    "import re\n",
    "import pandas as pd\n",
    "import numpy as np\n",
    "from collections import Counter\n",
    "from email import policy\n",
    "from email.parser import BytesParser\n",
    "from sklearn.model_selection import train_test_split\n",
    "from sklearn.pipeline import Pipeline\n",
    "from sklearn.feature_extraction.text import TfidfVectorizer\n",
    "from sklearn.naive_bayes import MultinomialNB\n",
    "from sklearn.metrics import classification_report, confusion_matrix, ConfusionMatrixDisplay\n",
    "import matplotlib.pyplot as plt\n",
    "import joblib\n",
    "from bs4 import BeautifulSoup\n"
   ]
  },
  {
   "cell_type": "markdown",
   "id": "f38db439",
   "metadata": {},
   "source": [
    "### 3. Parse and Clean Email Data"
   ]
  },
  {
   "cell_type": "code",
   "execution_count": 35,
   "id": "f9c3351d",
   "metadata": {},
   "outputs": [],
   "source": [
    "\n",
    "def parse_email(file_path):\n",
    "    with open(file_path, 'rb') as f:\n",
    "        msg = BytesParser(policy=policy.default).parse(f)\n",
    "    headers = dict(msg.items())\n",
    "    body = msg.get_body(preferencelist=('plain', 'html'))\n",
    "    return {\n",
    "        \"subject\": headers.get(\"Subject\", \"\"),\n",
    "        \"body\": body.get_content() if body else \"\"\n",
    "    }\n",
    "\n",
    "def load_emails_from_folder(folder_path, label):\n",
    "    emails = []\n",
    "    for file_name in os.listdir(folder_path):\n",
    "        file_path = os.path.join(folder_path, file_name)\n",
    "        try:\n",
    "            parsed = parse_email(file_path)\n",
    "            emails.append({\n",
    "                \"subject\": parsed[\"subject\"],\n",
    "                \"text\": parsed[\"body\"],\n",
    "                \"label\": label\n",
    "            })\n",
    "        except Exception:\n",
    "            continue\n",
    "    return emails\n",
    "\n",
    "def clean_text(text):\n",
    "    text = re.sub(r'\\b\\d+\\b', ' ', text)\n",
    "    text = re.sub(r'\\b(?:\\d{1,2}[: ]\\d{2})\\b', ' ', text)\n",
    "    text = re.sub(r'\\s+', ' ', text)\n",
    "    return text.strip()\n"
   ]
  },
  {
   "cell_type": "markdown",
   "id": "f008b833",
   "metadata": {},
   "source": [
    "### 4. Load and Label Emails"
   ]
  },
  {
   "cell_type": "code",
   "execution_count": 36,
   "id": "3681c271",
   "metadata": {},
   "outputs": [
    {
     "name": "stdout",
     "output_type": "stream",
     "text": [
      "📬 Total emails loaded: 4015\n",
      "✅ Ham emails: 2501\n",
      "🚫 Spam emails: 1514\n"
     ]
    }
   ],
   "source": [
    "ham_emails = load_emails_from_folder(\"easy_ham\", 0)\n",
    "spam_emails = load_emails_from_folder(\"spam\", 1)\n",
    "spam2_emails = load_emails_from_folder(\"spam_2\", 1)\n",
    "\n",
    "all_emails = pd.DataFrame(ham_emails + spam_emails + spam2_emails)\n",
    "all_emails['subject'] = all_emails['subject'].fillna('')\n",
    "all_emails['text'] = all_emails['text'].fillna('')\n",
    "\n",
    "# Boost subject influence by duplicating it\n",
    "all_emails[\"combined_text\"] = all_emails[\"subject\"] * 2 + ' ' + all_emails[\"text\"]\n",
    "all_emails[\"cleaned_text\"] = all_emails[\"combined_text\"].apply(clean_text)\n",
    "\n",
    "print(f\"📬 Total emails loaded: {len(all_emails)}\")\n",
    "print(f\"✅ Ham emails: {len(all_emails[all_emails['label'] == 0])}\")\n",
    "print(f\"🚫 Spam emails: {len(all_emails[all_emails['label'] == 1])}\")\n"
   ]
  },
  {
   "cell_type": "markdown",
   "id": "d7920230",
   "metadata": {},
   "source": [
    "### 5. Split Dataset into Train and Test"
   ]
  },
  {
   "cell_type": "code",
   "execution_count": 37,
   "id": "4efa6b0c",
   "metadata": {},
   "outputs": [],
   "source": [
    "\n",
    "X = all_emails['cleaned_text']\n",
    "y = all_emails['label']\n",
    "X_train, X_test, y_train, y_test = train_test_split(X, y, test_size=0.2, stratify=y, random_state=42)\n"
   ]
  },
  {
   "cell_type": "markdown",
   "id": "df32656d",
   "metadata": {},
   "source": [
    "### 6. Import Libraries and Setup"
   ]
  },
  {
   "cell_type": "code",
   "execution_count": 38,
   "id": "fa0c65f9",
   "metadata": {},
   "outputs": [
    {
     "name": "stdout",
     "output_type": "stream",
     "text": [
      "Model saved as spam_classifier.pkl\n"
     ]
    }
   ],
   "source": [
    "from sklearn.linear_model import LogisticRegression\n",
    "\n",
    "nb_pipeline = Pipeline([\n",
    "    ('tfidf', TfidfVectorizer(\n",
    "        max_df=0.95,\n",
    "        min_df=1,\n",
    "        max_features=10000,\n",
    "        ngram_range=(1, 2),  # Unigrams + bigrams\n",
    "        stop_words='english',\n",
    "        sublinear_tf=True,\n",
    "        strip_accents='unicode',\n",
    "        lowercase=True\n",
    "    )),\n",
    "    ('clf', LogisticRegression(max_iter=1000, class_weight='balanced'))\n",
    "])\n",
    "\n",
    "nb_pipeline.fit(X_train, y_train)\n",
    "\n",
    "# save the model\n",
    "joblib.dump(nb_pipeline, 'spam_classifier.pkl')\n",
    "print(\"Model saved as spam_classifier.pkl\")\n"
   ]
  },
  {
   "cell_type": "markdown",
   "id": "c7b5cf15",
   "metadata": {},
   "source": [
    "### 7. Evaluate Model Performance"
   ]
  },
  {
   "cell_type": "code",
   "execution_count": 39,
   "id": "5d049875",
   "metadata": {},
   "outputs": [
    {
     "name": "stdout",
     "output_type": "stream",
     "text": [
      "\n",
      "Classification Report:\n",
      "\n",
      "              precision    recall  f1-score   support\n",
      "\n",
      "           0     0.9804    0.9980    0.9891       500\n",
      "           1     0.9966    0.9670    0.9816       303\n",
      "\n",
      "    accuracy                         0.9863       803\n",
      "   macro avg     0.9885    0.9825    0.9853       803\n",
      "weighted avg     0.9865    0.9863    0.9863       803\n",
      "\n"
     ]
    },
    {
     "data": {
      "image/png": "[encoded data removed]",
      "text/plain": [
       "<Figure size 640x480 with 2 Axes>"
      ]
     },
     "metadata": {},
     "output_type": "display_data"
    }
   ],
   "source": [
    "\n",
    "y_pred = nb_pipeline.predict(X_test)\n",
    "print(\"\\nClassification Report:\\n\")\n",
    "print(classification_report(y_test, y_pred, digits=4))\n",
    "\n",
    "cm = confusion_matrix(y_test, y_pred)\n",
    "disp = ConfusionMatrixDisplay(confusion_matrix=cm, display_labels=[\"Ham\", \"Spam\"])\n",
    "disp.plot(cmap='Blues')\n",
    "plt.title(\"Confusion Matrix (logistic regression)\")\n",
    "plt.tight_layout()\n",
    "plt.show()\n"
   ]
  },
  {
   "cell_type": "markdown",
   "id": "24127eb0",
   "metadata": {},
   "source": [
    "### 8. Analyze False Negatives and Model Weaknesses"
   ]
  },
  {
   "cell_type": "code",
   "execution_count": 40,
   "id": "6365f65e",
   "metadata": {},
   "outputs": [
    {
     "name": "stdout",
     "output_type": "stream",
     "text": [
      "✅ False negatives saved to: false_negatives.txt\n"
     ]
    }
   ],
   "source": [
    "# --- ANALYZE FALSE NEGATIVES (Missed Spam) ---\n",
    "false_negatives_idx = np.where((y_test.values == 1) & (y_pred == 0))[0]\n",
    "filename = \"false_negatives.txt\"\n",
    "\n",
    "with open(filename, \"w\", encoding=\"utf-8\") as f:\n",
    "    f.write(f\"Total false negatives (missed spam): {len(false_negatives_idx)}\\n\\n\")\n",
    "    for idx in false_negatives_idx:\n",
    "        orig_idx = X_test.index[idx]\n",
    "        f.write(f\"--- Email index in test set: {idx} ---\\n\")\n",
    "        f.write(f\"Email Subject: {all_emails.iloc[orig_idx]['subject']}\\n\")\n",
    "        f.write(f\"Email Text: {all_emails.iloc[orig_idx]['combined_text']}\\n\")\n",
    "        f.write(f\"Actual Label: Spam\\n\")\n",
    "        f.write(f\"Predicted Label: Ham\\n\")\n",
    "        f.write(\"-\" * 50 + \"\\n\")\n",
    "\n",
    "print(f\"✅ False negatives saved to: {filename}\")\n",
    "\n"
   ]
  },
  {
   "cell_type": "markdown",
   "id": "89c9b7d3",
   "metadata": {},
   "source": [
    "### 9. Import Libraries and Setup"
   ]
  },
  {
   "cell_type": "code",
   "execution_count": null,
   "id": "bdddab60",
   "metadata": {},
   "outputs": [
    {
     "data": {
      "image/png": "[encoded data removed]",
      "text/plain": [
       "<Figure size 800x500 with 1 Axes>"
      ]
     },
     "metadata": {},
     "output_type": "display_data"
    },
    {
     "data": {
      "image/png": "[encoded data removed]",
      "text/plain": [
       "<Figure size 800x500 with 1 Axes>"
      ]
     },
     "metadata": {},
     "output_type": "display_data"
    }
   ],
   "source": [
    "import re\n",
    "import pandas as pd\n",
    "from langdetect import detect\n",
    "import matplotlib.pyplot as plt\n",
    "from collections import Counter\n",
    "\n",
    "# --- Load data from false_negatives.txt ---\n",
    "def parse_false_negatives(filepath):\n",
    "    with open(filepath, \"r\", encoding=\"utf-8\") as f:\n",
    "        content = f.read()\n",
    "\n",
    "    entries = content.strip().split(\"-\" * 50)\n",
    "    records = []\n",
    "    for entry in entries:\n",
    "        if \"Email Subject\" not in entry:\n",
    "            continue\n",
    "        subject = re.search(r\"Email Subject: (.*)\", entry)\n",
    "        text = re.search(r\"Email Text: (.*)\", entry, re.DOTALL)\n",
    "\n",
    "        records.append({\n",
    "            \"subject\": subject.group(1).strip() if subject else \"\",\n",
    "            \"text\": text.group(1).strip() if text else \"\"\n",
    "        })\n",
    "\n",
    "    return pd.DataFrame(records)\n",
    "\n",
    "df = parse_false_negatives(\"false_negatives.txt\")\n",
    "df[\"combined\"] = df[\"subject\"] + \" \" + df[\"text\"]\n",
    "\n",
    "\n",
    "# --- Language detection ---\n",
    "def safe_detect(text):\n",
    "    try:\n",
    "        return detect(text)\n",
    "    except:\n",
    "        return \"unknown\"\n",
    "\n",
    "df[\"language\"] = df[\"combined\"].apply(safe_detect)\n",
    "\n",
    "# --- Keyword-based spam technique extraction ---\n",
    "def detect_spam_technique(text):\n",
    "    text = text.lower()\n",
    "\n",
    "    if any(k in text for k in [\n",
    "        \"impersonating\", \"pretending to be\", \"fake sender\", \"spoofed email\", \n",
    "        \"unauthorized email\", \"not from\", \"suspicious sender\", \"identity theft\",\"cooperation\"\n",
    "    ]):\n",
    "        return \"Email Spoofing\"\n",
    "    \n",
    "    elif any(k in text for k in [\n",
    "        \"antivirus\", \"virus\", \"ransomware\", \"malware\", \"spyware\", \"trojan\",\n",
    "        \"infected\", \"system scan\", \"security alert\", \"protection\", \"clean your pc\",\n",
    "        \"your device is\", \"threats detected\", \"computer virus\", \"norton\", \"symantec\"\n",
    "    ]):\n",
    "        return \"Antivirus Warnings\"\n",
    "\n",
    "    elif any(k in text for k in [\n",
    "        \"buy now\", \"sale\", \"discount\", \"limited time offer\", \"promotion\", \n",
    "        \"subscribe now\", \"exclusive deal\", \"order today\", \"lowest price\", \n",
    "        \"act fast\", \"offer expires\", \"flash sale\", \"click to save\",\"Product\"\n",
    "    ]):\n",
    "        return \"Commercial Advertisements\"\n",
    "    \n",
    "    elif any(k in text for k in [\n",
    "        \"account suspended\", \"login now\", \"verify account\", \"click here\", \n",
    "        \"update your details\", \"reset password\", \"confirm your information\", \n",
    "        \"unusual activity\", \"security breach\", \"your account has been locked\"\n",
    "    ]):\n",
    "        return \"Phishing & Account Alerts\"\n",
    "\n",
    "    elif any(k in text for k in [\n",
    "        \"financial opportunity\", \"investment\", \"business proposal\", \n",
    "        \"business relationship\", \"commissions\", \"make money\", \"income opportunity\", \n",
    "        \"quick profit\", \"urgent partnership\", \"lucrative deal\", \"money transfer\"\n",
    "    ]):\n",
    "        return \"Business/Investment Scams\"\n",
    "    \n",
    "    else:\n",
    "        return \"Others\"\n",
    "\n",
    "df[\"technique\"] = df[\"combined\"].apply(detect_spam_technique)\n",
    "\n",
    "# --- Visualization ---\n",
    "def plot_distribution(column, title):\n",
    "    counts = df[column].value_counts()\n",
    "    plt.figure(figsize=(8, 5))\n",
    "    bars = plt.bar(counts.index, counts.values, color='tomato')\n",
    "    plt.title(title)\n",
    "    plt.ylabel(\"Count\")\n",
    "    plt.xticks(rotation=30)\n",
    "    for bar in bars:\n",
    "        height = bar.get_height()\n",
    "        plt.text(bar.get_x() + bar.get_width()/2, height + 0.5, str(height), ha='center')\n",
    "    plt.tight_layout()\n",
    "    plt.show()\n",
    "\n",
    "plot_distribution(\"language\", \"Detected Language of False Negatives\")\n",
    "plot_distribution(\"technique\", \"Spam Technique in False Negatives\")\n"
   ]
  },
  {
   "cell_type": "markdown",
   "id": "2c374a6c",
   "metadata": {},
   "source": [
    "### 10. Clean and Combine Email Text"
   ]
  },
  {
   "cell_type": "code",
   "execution_count": 42,
   "id": "1779e60f",
   "metadata": {},
   "outputs": [
    {
     "name": "stdout",
     "output_type": "stream",
     "text": [
      "\n",
      "📤 Testing batch of sample emails with logistic regression...\n",
      "\n",
      "Email 1\n",
      "Subject: Weekly Project Sync\n",
      "Prediction: Ham\n",
      "----------------------------------------\n",
      "Email 2\n",
      "Subject: Reimbursement Form Attached\n",
      "Prediction: Spam\n",
      "----------------------------------------\n",
      "Email 3\n",
      "Subject: URGENT: Account Locked\n",
      "Prediction: Spam\n",
      "----------------------------------------\n",
      "Email 4\n",
      "Subject: Reset your password now\n",
      "Prediction: Ham\n",
      "----------------------------------------\n",
      "Email 5\n",
      "Subject: Congratulations! You've won a $1000 gift card\n",
      "Prediction: Spam\n",
      "----------------------------------------\n",
      "Email 6\n",
      "Subject: Your iPhone 15 Pro is waiting\n",
      "Prediction: Spam\n",
      "----------------------------------------\n",
      "Email 7\n",
      "Subject: Doctor Approved Weight Loss Pill\n",
      "Prediction: Spam\n",
      "----------------------------------------\n",
      "Email 8\n",
      "Subject: Grow Your Business with AI Tools\n",
      "Prediction: Spam\n",
      "----------------------------------------\n",
      "Email 9\n",
      "Subject: Your input Matters: Where did you find us?\n",
      "Prediction: Spam\n",
      "----------------------------------------\n"
     ]
    }
   ],
   "source": [
    "# --- TEST SAMPLE EMAILS ---\n",
    "nb_pipeline = joblib.load(\"spam_classifier.pkl\")\n",
    "\n",
    "sample_emails = [\n",
    "    # ✅ Realistic Ham\n",
    "    {\"subject\": \"Weekly Project Sync\", \"body\": \"Just a reminder, our weekly sync is tomorrow at 10am in Room 204.\"},\n",
    "    {\"subject\": \"Reimbursement Form Attached\", \"body\": \"Hi, please complete the attached form to claim your expenses from last month.\"},\n",
    "    \n",
    "    # 🚨 Phishing-style Spam\n",
    "    {\"subject\": \"URGENT: Account Locked\", \"body\": \"Your account is locked due to suspicious activity. Please verify your identity here: http://fakebank-login.com\"},\n",
    "    {\"subject\": \"Reset your password now\", \"body\": \"We noticed unusual activity in your account. Reset your password to avoid lockout.\"},\n",
    "\n",
    "    # 🎁 Scam / Fake Promotions\n",
    "    {\"subject\": \"Congratulations! You've won a $1000 gift card\", \"body\": \"Click here to claim your free reward now before it expires.\"},\n",
    "    {\"subject\": \"Your iPhone 15 Pro is waiting\", \"body\": \"Confirm your shipping address now to receive your prize.\"},\n",
    "\n",
    "    # 💊 Health / Pharma Spam\n",
    "    {\"subject\": \"Doctor Approved Weight Loss Pill\", \"body\": \"Lose up to 20 pounds in 2 weeks. No exercise needed! Limited time offer.\"},\n",
    "\n",
    "    # 💼 Business / Marketing Spam\n",
    "    {\"subject\": \"Grow Your Business with AI Tools\", \"body\": \"Automate your marketing and scale with our AI-powered suite. Try now!\"},\n",
    "    {\"subject\": \"Your input Matters: Where did you find us?\", \"body\": \"Dear customer, Thank you for choosing Toyota! Your trust means the world to us. To help us serve you better, we’d love to get your feedback. Please take a moment to complete a short survey by clicking the link here. Your input will help us enhance our services and improve your overall experience. We promise it will only take a brief of your time. Thank you for your time and continued support! Best regards,   Toyota Customer Relations Team\"},\n",
    "\n",
    "]\n",
    "\n",
    "print(\"\\n📤 Testing batch of sample emails with logistic regression...\\n\")\n",
    "for i, email in enumerate(sample_emails, 1):\n",
    "    combined_text = clean_text(email['subject'] * 2 + ' ' + email['body'])  # Apply subject boost here too\n",
    "    prediction = nb_pipeline.predict([combined_text])[0]\n",
    "    print(f\"Email {i}\")\n",
    "    print(\"Subject:\", email['subject'])\n",
    "    print(\"Prediction:\", \"Spam\" if prediction == 1 else \"Ham\")\n",
    "    print(\"-\" * 40)\n"
   ]
  }
 ],
 "metadata": {
  "kernelspec": {
   "display_name": "Python 3",
   "language": "python",
   "name": "python3"
  },
  "language_info": {
   "codemirror_mode": {
    "name": "ipython",
    "version": 3
   },
   "file_extension": ".py",
   "mimetype": "text/x-python",
   "name": "python",
   "nbconvert_exporter": "python",
   "pygments_lexer": "ipython3",
   "version": "3.11.5"
  }
 },
 "nbformat": 4,
 "nbformat_minor": 5
}
