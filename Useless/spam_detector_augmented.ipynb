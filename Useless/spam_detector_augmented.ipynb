{
 "cells": [
  {
   "cell_type": "markdown",
   "id": "9aa480e7",
   "metadata": {},
   "source": [
    "# 📧 Spam Email Classifier (Naive Bayes Model)\n",
    "This notebook loads raw `.eml` files from folders, processes and trains a spam classifier using a Naive Bayes model."
   ]
  },
  {
   "cell_type": "code",
   "execution_count": 1,
   "id": "bbf2fc9f",
   "metadata": {},
   "outputs": [],
   "source": [
    "\n",
    "import os\n",
    "import re\n",
    "import pandas as pd\n",
    "import numpy as np\n",
    "from collections import Counter\n",
    "from email import policy\n",
    "from email.parser import BytesParser\n",
    "from sklearn.model_selection import train_test_split\n",
    "from sklearn.pipeline import Pipeline\n",
    "from sklearn.feature_extraction.text import TfidfVectorizer\n",
    "from sklearn.naive_bayes import MultinomialNB\n",
    "from sklearn.metrics import classification_report, confusion_matrix, ConfusionMatrixDisplay\n",
    "import matplotlib.pyplot as plt\n",
    "import joblib\n"
   ]
  },
  {
   "cell_type": "code",
   "execution_count": 2,
   "id": "f9c3351d",
   "metadata": {},
   "outputs": [],
   "source": [
    "\n",
    "def parse_email(file_path):\n",
    "    with open(file_path, 'rb') as f:\n",
    "        msg = BytesParser(policy=policy.default).parse(f)\n",
    "    headers = dict(msg.items())\n",
    "    body = msg.get_body(preferencelist=('plain', 'html'))\n",
    "    return {\n",
    "        \"subject\": headers.get(\"Subject\", \"\"),\n",
    "        \"body\": body.get_content() if body else \"\"\n",
    "    }\n",
    "\n",
    "def load_emails_from_folder(folder_path, label):\n",
    "    emails = []\n",
    "    for file_name in os.listdir(folder_path):\n",
    "        file_path = os.path.join(folder_path, file_name)\n",
    "        try:\n",
    "            parsed = parse_email(file_path)\n",
    "            emails.append({\n",
    "                \"subject\": parsed[\"subject\"],\n",
    "                \"text\": parsed[\"body\"],\n",
    "                \"label\": label\n",
    "            })\n",
    "        except Exception:\n",
    "            continue\n",
    "    return emails\n",
    "\n",
    "def clean_text(text):\n",
    "    text = re.sub(r'\\b\\d+\\b', ' ', text)\n",
    "    text = re.sub(r'\\b(?:\\d{1,2}[: ]\\d{2})\\b', ' ', text)\n",
    "    text = re.sub(r'\\s+', ' ', text)\n",
    "    return text.strip()\n"
   ]
  },
  {
   "cell_type": "code",
   "execution_count": null,
   "id": "3681c271",
   "metadata": {},
   "outputs": [
    {
     "name": "stdout",
     "output_type": "stream",
     "text": [
      "📬 Total emails loaded: 4015\n",
      "✅ Ham emails: 2501\n",
      "🚫 Spam emails: 1514\n"
     ]
    }
   ],
   "source": [
    "ham_emails = load_emails_from_folder(\"easy_ham\", 0)\n",
    "spam_emails = load_emails_from_folder(\"spam\", 1)\n",
    "spam2_emails = load_emails_from_folder(\"spam_2\", 1)\n",
    "\n",
    "\n",
    "all_emails = pd.DataFrame(ham_emails + spam_emails + spam2_emails)\n",
    "all_emails['subject'] = all_emails['subject'].fillna('')\n",
    "all_emails['text'] = all_emails['text'].fillna('')\n",
    "all_emails['combined_text'] = all_emails['subject'] + ' ' + all_emails['text']\n",
    "all_emails['cleaned_text'] = all_emails['combined_text'].apply(clean_text)\n",
    "\n",
    "print(f\"📬 Total emails loaded: {len(all_emails)}\")\n",
    "print(f\"✅ Ham emails: {len(all_emails[all_emails['label'] == 0])}\")\n",
    "print(f\"🚫 Spam emails: {len(all_emails[all_emails['label'] == 1])}\")\n",
    "\n",
    "# Visualize the distribution of labels\n",
    "plt.figure(figsize=(8, 6))\n",
    "all_emails['label'].value_counts().plot(kind='bar', color=['blue', 'red'])\n",
    "plt.title('Distribution of Ham and Spam Emails')\n",
    "plt.xlabel('Label')\n",
    "plt.ylabel('Count')\n",
    "plt.xticks(ticks=[0, 1], labels=['Ham', 'Spam'], rotation=0)\n",
    "plt.show()\n",
    "# \n"
   ]
  },
  {
   "cell_type": "code",
   "execution_count": 4,
   "id": "4efa6b0c",
   "metadata": {},
   "outputs": [],
   "source": [
    "\n",
    "X = all_emails['cleaned_text']\n",
    "y = all_emails['label']\n",
    "X_train, X_test, y_train, y_test = train_test_split(X, y, test_size=0.2, stratify=y, random_state=42)\n"
   ]
  },
  {
   "cell_type": "code",
   "execution_count": 5,
   "id": "fa0c65f9",
   "metadata": {},
   "outputs": [
    {
     "data": {
      "text/html": [
       "<style>#sk-container-id-1 {color: black;}#sk-container-id-1 pre{padding: 0;}#sk-container-id-1 div.sk-toggleable {background-color: white;}#sk-container-id-1 label.sk-toggleable__label {cursor: pointer;display: block;width: 100%;margin-bottom: 0;padding: 0.3em;box-sizing: border-box;text-align: center;}#sk-container-id-1 label.sk-toggleable__label-arrow:before {content: \"▸\";float: left;margin-right: 0.25em;color: #696969;}#sk-container-id-1 label.sk-toggleable__label-arrow:hover:before {color: black;}#sk-container-id-1 div.sk-estimator:hover label.sk-toggleable__label-arrow:before {color: black;}#sk-container-id-1 div.sk-toggleable__content {max-height: 0;max-width: 0;overflow: hidden;text-align: left;background-color: #f0f8ff;}#sk-container-id-1 div.sk-toggleable__content pre {margin: 0.2em;color: black;border-radius: 0.25em;background-color: #f0f8ff;}#sk-container-id-1 input.sk-toggleable__control:checked~div.sk-toggleable__content {max-height: 200px;max-width: 100%;overflow: auto;}#sk-container-id-1 input.sk-toggleable__control:checked~label.sk-toggleable__label-arrow:before {content: \"▾\";}#sk-container-id-1 div.sk-estimator input.sk-toggleable__control:checked~label.sk-toggleable__label {background-color: #d4ebff;}#sk-container-id-1 div.sk-label input.sk-toggleable__control:checked~label.sk-toggleable__label {background-color: #d4ebff;}#sk-container-id-1 input.sk-hidden--visually {border: 0;clip: rect(1px 1px 1px 1px);clip: rect(1px, 1px, 1px, 1px);height: 1px;margin: -1px;overflow: hidden;padding: 0;position: absolute;width: 1px;}#sk-container-id-1 div.sk-estimator {font-family: monospace;background-color: #f0f8ff;border: 1px dotted black;border-radius: 0.25em;box-sizing: border-box;margin-bottom: 0.5em;}#sk-container-id-1 div.sk-estimator:hover {background-color: #d4ebff;}#sk-container-id-1 div.sk-parallel-item::after {content: \"\";width: 100%;border-bottom: 1px solid gray;flex-grow: 1;}#sk-container-id-1 div.sk-label:hover label.sk-toggleable__label {background-color: #d4ebff;}#sk-container-id-1 div.sk-serial::before {content: \"\";position: absolute;border-left: 1px solid gray;box-sizing: border-box;top: 0;bottom: 0;left: 50%;z-index: 0;}#sk-container-id-1 div.sk-serial {display: flex;flex-direction: column;align-items: center;background-color: white;padding-right: 0.2em;padding-left: 0.2em;position: relative;}#sk-container-id-1 div.sk-item {position: relative;z-index: 1;}#sk-container-id-1 div.sk-parallel {display: flex;align-items: stretch;justify-content: center;background-color: white;position: relative;}#sk-container-id-1 div.sk-item::before, #sk-container-id-1 div.sk-parallel-item::before {content: \"\";position: absolute;border-left: 1px solid gray;box-sizing: border-box;top: 0;bottom: 0;left: 50%;z-index: -1;}#sk-container-id-1 div.sk-parallel-item {display: flex;flex-direction: column;z-index: 1;position: relative;background-color: white;}#sk-container-id-1 div.sk-parallel-item:first-child::after {align-self: flex-end;width: 50%;}#sk-container-id-1 div.sk-parallel-item:last-child::after {align-self: flex-start;width: 50%;}#sk-container-id-1 div.sk-parallel-item:only-child::after {width: 0;}#sk-container-id-1 div.sk-dashed-wrapped {border: 1px dashed gray;margin: 0 0.4em 0.5em 0.4em;box-sizing: border-box;padding-bottom: 0.4em;background-color: white;}#sk-container-id-1 div.sk-label label {font-family: monospace;font-weight: bold;display: inline-block;line-height: 1.2em;}#sk-container-id-1 div.sk-label-container {text-align: center;}#sk-container-id-1 div.sk-container {/* jupyter's `normalize.less` sets `[hidden] { display: none; }` but bootstrap.min.css set `[hidden] { display: none !important; }` so we also need the `!important` here to be able to override the default hidden behavior on the sphinx rendered scikit-learn.org. See: https://github.com/scikit-learn/scikit-learn/issues/21755 */display: inline-block !important;position: relative;}#sk-container-id-1 div.sk-text-repr-fallback {display: none;}</style><div id=\"sk-container-id-1\" class=\"sk-top-container\"><div class=\"sk-text-repr-fallback\"><pre>Pipeline(steps=[(&#x27;tfidf&#x27;,\n",
       "                 TfidfVectorizer(max_df=0.95, max_features=5000, min_df=2,\n",
       "                                 ngram_range=(1, 2), stop_words=&#x27;english&#x27;,\n",
       "                                 strip_accents=&#x27;unicode&#x27;, sublinear_tf=True)),\n",
       "                (&#x27;clf&#x27;,\n",
       "                 LogisticRegression(class_weight=&#x27;balanced&#x27;, max_iter=1000))])</pre><b>In a Jupyter environment, please rerun this cell to show the HTML representation or trust the notebook. <br />On GitHub, the HTML representation is unable to render, please try loading this page with nbviewer.org.</b></div><div class=\"sk-container\" hidden><div class=\"sk-item sk-dashed-wrapped\"><div class=\"sk-label-container\"><div class=\"sk-label sk-toggleable\"><input class=\"sk-toggleable__control sk-hidden--visually\" id=\"sk-estimator-id-1\" type=\"checkbox\" ><label for=\"sk-estimator-id-1\" class=\"sk-toggleable__label sk-toggleable__label-arrow\">Pipeline</label><div class=\"sk-toggleable__content\"><pre>Pipeline(steps=[(&#x27;tfidf&#x27;,\n",
       "                 TfidfVectorizer(max_df=0.95, max_features=5000, min_df=2,\n",
       "                                 ngram_range=(1, 2), stop_words=&#x27;english&#x27;,\n",
       "                                 strip_accents=&#x27;unicode&#x27;, sublinear_tf=True)),\n",
       "                (&#x27;clf&#x27;,\n",
       "                 LogisticRegression(class_weight=&#x27;balanced&#x27;, max_iter=1000))])</pre></div></div></div><div class=\"sk-serial\"><div class=\"sk-item\"><div class=\"sk-estimator sk-toggleable\"><input class=\"sk-toggleable__control sk-hidden--visually\" id=\"sk-estimator-id-2\" type=\"checkbox\" ><label for=\"sk-estimator-id-2\" class=\"sk-toggleable__label sk-toggleable__label-arrow\">TfidfVectorizer</label><div class=\"sk-toggleable__content\"><pre>TfidfVectorizer(max_df=0.95, max_features=5000, min_df=2, ngram_range=(1, 2),\n",
       "                stop_words=&#x27;english&#x27;, strip_accents=&#x27;unicode&#x27;,\n",
       "                sublinear_tf=True)</pre></div></div></div><div class=\"sk-item\"><div class=\"sk-estimator sk-toggleable\"><input class=\"sk-toggleable__control sk-hidden--visually\" id=\"sk-estimator-id-3\" type=\"checkbox\" ><label for=\"sk-estimator-id-3\" class=\"sk-toggleable__label sk-toggleable__label-arrow\">LogisticRegression</label><div class=\"sk-toggleable__content\"><pre>LogisticRegression(class_weight=&#x27;balanced&#x27;, max_iter=1000)</pre></div></div></div></div></div></div></div>"
      ],
      "text/plain": [
       "Pipeline(steps=[('tfidf',\n",
       "                 TfidfVectorizer(max_df=0.95, max_features=5000, min_df=2,\n",
       "                                 ngram_range=(1, 2), stop_words='english',\n",
       "                                 strip_accents='unicode', sublinear_tf=True)),\n",
       "                ('clf',\n",
       "                 LogisticRegression(class_weight='balanced', max_iter=1000))])"
      ]
     },
     "execution_count": 5,
     "metadata": {},
     "output_type": "execute_result"
    }
   ],
   "source": [
    "from sklearn.linear_model import LogisticRegression\n",
    "\n",
    "nb_pipeline = Pipeline([\n",
    "    ('tfidf', TfidfVectorizer(\n",
    "        max_df=0.95,\n",
    "        min_df=2,\n",
    "        max_features=5000,\n",
    "        ngram_range=(1, 2),  # Unigrams + bigrams\n",
    "        stop_words='english',\n",
    "        sublinear_tf=True,\n",
    "        strip_accents='unicode',\n",
    "        lowercase=True\n",
    "    )),\n",
    "    ('clf', LogisticRegression(max_iter=1000, class_weight='balanced'))\n",
    "])\n",
    "\n",
    "nb_pipeline.fit(X_train, y_train)\n"
   ]
  },
  {
   "cell_type": "code",
   "execution_count": 6,
   "id": "5d049875",
   "metadata": {},
   "outputs": [
    {
     "name": "stdout",
     "output_type": "stream",
     "text": [
      "\n",
      "Classification Report:\n",
      "\n",
      "              precision    recall  f1-score   support\n",
      "\n",
      "           0     0.9804    0.9980    0.9891       500\n",
      "           1     0.9966    0.9670    0.9816       303\n",
      "\n",
      "    accuracy                         0.9863       803\n",
      "   macro avg     0.9885    0.9825    0.9853       803\n",
      "weighted avg     0.9865    0.9863    0.9863       803\n",
      "\n"
     ]
    },
    {
     "data": {
      "image/png": "[encoded data removed]",
      "text/plain": [
       "<Figure size 640x480 with 2 Axes>"
      ]
     },
     "metadata": {},
     "output_type": "display_data"
    }
   ],
   "source": [
    "\n",
    "y_pred = nb_pipeline.predict(X_test)\n",
    "print(\"\\nClassification Report:\\n\")\n",
    "print(classification_report(y_test, y_pred, digits=4))\n",
    "\n",
    "cm = confusion_matrix(y_test, y_pred)\n",
    "disp = ConfusionMatrixDisplay(confusion_matrix=cm)\n",
    "disp.plot(cmap='Blues')\n",
    "plt.title(\"Confusion Matrix (Naive Bayes)\")\n",
    "plt.show()\n"
   ]
  },
  {
   "cell_type": "code",
   "execution_count": 7,
   "id": "6365f65e",
   "metadata": {},
   "outputs": [
    {
     "name": "stdout",
     "output_type": "stream",
     "text": [
      "✅ False negatives saved to: false_negatives.txt\n"
     ]
    }
   ],
   "source": [
    "# --- ANALYZE FALSE NEGATIVES (Missed Spam) ---\n",
    "false_negatives_idx = np.where((y_test.values == 1) & (y_pred == 0))[0]\n",
    "filename = \"false_negatives.txt\"\n",
    "\n",
    "with open(filename, \"w\", encoding=\"utf-8\") as f:\n",
    "    f.write(f\"Total false negatives (missed spam): {len(false_negatives_idx)}\\n\\n\")\n",
    "    for idx in false_negatives_idx:\n",
    "        orig_idx = X_test.index[idx]\n",
    "        f.write(f\"--- Email index in test set: {idx} ---\\n\")\n",
    "        f.write(f\"Email Subject: {all_emails.iloc[orig_idx]['subject']}\\n\")\n",
    "        f.write(f\"Email Text: {all_emails.iloc[orig_idx]['combined_text']}\\n\")\n",
    "        f.write(f\"Actual Label: Spam\\n\")\n",
    "        f.write(f\"Predicted Label: Ham\\n\")\n",
    "        f.write(\"-\" * 50 + \"\\n\")\n",
    "\n",
    "print(f\"✅ False negatives saved to: {filename}\")\n"
   ]
  },
  {
   "cell_type": "code",
   "execution_count": 8,
   "id": "1779e60f",
   "metadata": {},
   "outputs": [
    {
     "name": "stdout",
     "output_type": "stream",
     "text": [
      "\n",
      "Testing batch of sample emails with Naive Bayes...\n",
      "\n",
      "Email 1\n",
      "Subject: Team Meeting Reminder\n",
      "Prediction: Ham\n",
      "----------------------------------------\n",
      "Email 2\n",
      "Subject: Invoice Attached\n",
      "Prediction: Ham\n",
      "----------------------------------------\n",
      "Email 3\n",
      "Subject: Assignment Feedback\n",
      "Prediction: Ham\n",
      "----------------------------------------\n",
      "Email 4\n",
      "Subject: Lunch Plans?\n",
      "Prediction: Ham\n",
      "----------------------------------------\n",
      "Email 5\n",
      "Subject: URGENT: Account Locked\n",
      "Prediction: Ham\n",
      "----------------------------------------\n",
      "Email 6\n",
      "Subject: Your payment has been confirmed\n",
      "Prediction: Ham\n",
      "----------------------------------------\n",
      "Email 7\n",
      "Subject: Your input Matters: Where did you find us?\n",
      "Prediction: Spam\n",
      "----------------------------------------\n"
     ]
    }
   ],
   "source": [
    "# --- TEST SAMPLE EMAILS ---\n",
    "nb_pipeline = joblib.load(\"spam_detector_nb_model.pkl\")\n",
    "sample_emails = [\n",
    "    {\"subject\": \"Team Meeting Reminder\", \"body\": \"Dear team, this is a reminder for our meeting tomorrow at 10am in room 305.\"},\n",
    "    {\"subject\": \"Invoice Attached\", \"body\": \"Hi, please find attached the invoice for last month. Let me know if you have any questions.\"},\n",
    "    {\"subject\": \"Assignment Feedback\", \"body\": \"Your assignment has been marked. Please check the portal for your grade and feedback.\"},\n",
    "    {\"subject\": \"Lunch Plans?\", \"body\": \"Hey, are you free for lunch today at 1pm? Let me know!\"},\n",
    "    {\"subject\": \"URGENT: Account Locked\", \"body\": \"Your account is locked. Verify your info here: http://phishingsite.com\"},\n",
    "    {\"subject\": \"Your payment has been confirmed\", \"body\": \"Baseus Presenter Wireless Laser Pointer 2.4GHz Remote Controller for Mac 1 item from Shopee Delivered today Order number 250512NXGU9D17\"},\n",
    "    {\"subject\": \"Your input Matters: Where did you find us?\", \"body\": \"Dear customer, Thank you for choosing Toyota! Your trust means the world to us. To help us serve you better, we’d love to get your feedback. Please take a moment to complete a short survey by clicking the link here. Your input will help us enhance our services and improve your overall experience. We promise it will only take a brief of your time. Thank you for your time and continued support! Best regards,   Toyota Customer Relations Team\"},\n",
    "]\n",
    "print(\"\\nTesting batch of sample emails with Naive Bayes...\\n\")\n",
    "for i, email in enumerate(sample_emails, 1):\n",
    "    combined_text = clean_text(email['subject'] + ' ' + email['body'])\n",
    "    prediction = nb_pipeline.predict([combined_text])[0]\n",
    "    print(f\"Email {i}\")\n",
    "    print(\"Subject:\", email['subject'])\n",
    "    print(\"Prediction:\", \"Spam\" if prediction == 1 else \"Ham\")\n",
    "    print(\"-\" * 40)"
   ]
  }
 ],
 "metadata": {
  "kernelspec": {
   "display_name": "Python 3",
   "language": "python",
   "name": "python3"
  },
  "language_info": {
   "codemirror_mode": {
    "name": "ipython",
    "version": 3
   },
   "file_extension": ".py",
   "mimetype": "text/x-python",
   "name": "python",
   "nbconvert_exporter": "python",
   "pygments_lexer": "ipython3",
   "version": "3.11.5"
  }
 },
 "nbformat": 4,
 "nbformat_minor": 5
}
