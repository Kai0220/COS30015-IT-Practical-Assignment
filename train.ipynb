{
 "cells": [
  {
   "cell_type": "code",
   "execution_count": 204,
   "id": "92d17e2e",
   "metadata": {},
   "outputs": [],
   "source": [
    "import pandas as pd\n",
    "import numpy as np\n",
    "import re\n",
    "from collections import Counter\n",
    "\n",
    "# --- LOAD AND CLEAN DATA ---\n",
    "df = pd.read_csv(\"emails_for_ml.csv\")\n",
    "df['combined_text'] = df['subject'].fillna('') + ' ' + df['text'].fillna('')\n",
    "\n",
    "def clean_text(text):\n",
    "    # Remove numeric-only tokens and time-like patterns\n",
    "    text = re.sub(r'\\b\\d+\\b', ' ', text)                       # Remove stand-alone numbers\n",
    "    text = re.sub(r'\\b(?:\\d{1,2}[: ]\\d{2})\\b', ' ', text)      # Remove times like '12:00' or '12 00'\n",
    "    text = re.sub(r'\\s+', ' ', text)                           # Remove extra spaces\n",
    "    return text.strip()\n",
    "\n",
    "df['cleaned_text'] = df['combined_text'].apply(clean_text)"
   ]
  },
  {
   "cell_type": "code",
   "execution_count": 205,
   "id": "270bf8e6",
   "metadata": {},
   "outputs": [],
   "source": [
    "# --- SPLIT DATA ---\n",
    "from sklearn.model_selection import train_test_split\n",
    "\n",
    "X = df['cleaned_text']\n",
    "y = df['label']\n",
    "\n",
    "X_train, X_test, y_train, y_test = train_test_split(\n",
    "    X, y, test_size=0.2, random_state=42, stratify=y\n",
    ")\n"
   ]
  },
  {
   "cell_type": "code",
   "execution_count": 206,
   "id": "f7887d7e",
   "metadata": {},
   "outputs": [
    {
     "data": {
      "text/html": [
       "<style>#sk-container-id-22 {color: black;}#sk-container-id-22 pre{padding: 0;}#sk-container-id-22 div.sk-toggleable {background-color: white;}#sk-container-id-22 label.sk-toggleable__label {cursor: pointer;display: block;width: 100%;margin-bottom: 0;padding: 0.3em;box-sizing: border-box;text-align: center;}#sk-container-id-22 label.sk-toggleable__label-arrow:before {content: \"▸\";float: left;margin-right: 0.25em;color: #696969;}#sk-container-id-22 label.sk-toggleable__label-arrow:hover:before {color: black;}#sk-container-id-22 div.sk-estimator:hover label.sk-toggleable__label-arrow:before {color: black;}#sk-container-id-22 div.sk-toggleable__content {max-height: 0;max-width: 0;overflow: hidden;text-align: left;background-color: #f0f8ff;}#sk-container-id-22 div.sk-toggleable__content pre {margin: 0.2em;color: black;border-radius: 0.25em;background-color: #f0f8ff;}#sk-container-id-22 input.sk-toggleable__control:checked~div.sk-toggleable__content {max-height: 200px;max-width: 100%;overflow: auto;}#sk-container-id-22 input.sk-toggleable__control:checked~label.sk-toggleable__label-arrow:before {content: \"▾\";}#sk-container-id-22 div.sk-estimator input.sk-toggleable__control:checked~label.sk-toggleable__label {background-color: #d4ebff;}#sk-container-id-22 div.sk-label input.sk-toggleable__control:checked~label.sk-toggleable__label {background-color: #d4ebff;}#sk-container-id-22 input.sk-hidden--visually {border: 0;clip: rect(1px 1px 1px 1px);clip: rect(1px, 1px, 1px, 1px);height: 1px;margin: -1px;overflow: hidden;padding: 0;position: absolute;width: 1px;}#sk-container-id-22 div.sk-estimator {font-family: monospace;background-color: #f0f8ff;border: 1px dotted black;border-radius: 0.25em;box-sizing: border-box;margin-bottom: 0.5em;}#sk-container-id-22 div.sk-estimator:hover {background-color: #d4ebff;}#sk-container-id-22 div.sk-parallel-item::after {content: \"\";width: 100%;border-bottom: 1px solid gray;flex-grow: 1;}#sk-container-id-22 div.sk-label:hover label.sk-toggleable__label {background-color: #d4ebff;}#sk-container-id-22 div.sk-serial::before {content: \"\";position: absolute;border-left: 1px solid gray;box-sizing: border-box;top: 0;bottom: 0;left: 50%;z-index: 0;}#sk-container-id-22 div.sk-serial {display: flex;flex-direction: column;align-items: center;background-color: white;padding-right: 0.2em;padding-left: 0.2em;position: relative;}#sk-container-id-22 div.sk-item {position: relative;z-index: 1;}#sk-container-id-22 div.sk-parallel {display: flex;align-items: stretch;justify-content: center;background-color: white;position: relative;}#sk-container-id-22 div.sk-item::before, #sk-container-id-22 div.sk-parallel-item::before {content: \"\";position: absolute;border-left: 1px solid gray;box-sizing: border-box;top: 0;bottom: 0;left: 50%;z-index: -1;}#sk-container-id-22 div.sk-parallel-item {display: flex;flex-direction: column;z-index: 1;position: relative;background-color: white;}#sk-container-id-22 div.sk-parallel-item:first-child::after {align-self: flex-end;width: 50%;}#sk-container-id-22 div.sk-parallel-item:last-child::after {align-self: flex-start;width: 50%;}#sk-container-id-22 div.sk-parallel-item:only-child::after {width: 0;}#sk-container-id-22 div.sk-dashed-wrapped {border: 1px dashed gray;margin: 0 0.4em 0.5em 0.4em;box-sizing: border-box;padding-bottom: 0.4em;background-color: white;}#sk-container-id-22 div.sk-label label {font-family: monospace;font-weight: bold;display: inline-block;line-height: 1.2em;}#sk-container-id-22 div.sk-label-container {text-align: center;}#sk-container-id-22 div.sk-container {/* jupyter's `normalize.less` sets `[hidden] { display: none; }` but bootstrap.min.css set `[hidden] { display: none !important; }` so we also need the `!important` here to be able to override the default hidden behavior on the sphinx rendered scikit-learn.org. See: https://github.com/scikit-learn/scikit-learn/issues/21755 */display: inline-block !important;position: relative;}#sk-container-id-22 div.sk-text-repr-fallback {display: none;}</style><div id=\"sk-container-id-22\" class=\"sk-top-container\"><div class=\"sk-text-repr-fallback\"><pre>Pipeline(steps=[(&#x27;tfidf&#x27;,\n",
       "                 TfidfVectorizer(max_df=0.95, ngram_range=(1, 3),\n",
       "                                 stop_words=&#x27;english&#x27;, strip_accents=&#x27;unicode&#x27;,\n",
       "                                 sublinear_tf=True)),\n",
       "                (&#x27;clf&#x27;, MultinomialNB())])</pre><b>In a Jupyter environment, please rerun this cell to show the HTML representation or trust the notebook. <br />On GitHub, the HTML representation is unable to render, please try loading this page with nbviewer.org.</b></div><div class=\"sk-container\" hidden><div class=\"sk-item sk-dashed-wrapped\"><div class=\"sk-label-container\"><div class=\"sk-label sk-toggleable\"><input class=\"sk-toggleable__control sk-hidden--visually\" id=\"sk-estimator-id-64\" type=\"checkbox\" ><label for=\"sk-estimator-id-64\" class=\"sk-toggleable__label sk-toggleable__label-arrow\">Pipeline</label><div class=\"sk-toggleable__content\"><pre>Pipeline(steps=[(&#x27;tfidf&#x27;,\n",
       "                 TfidfVectorizer(max_df=0.95, ngram_range=(1, 3),\n",
       "                                 stop_words=&#x27;english&#x27;, strip_accents=&#x27;unicode&#x27;,\n",
       "                                 sublinear_tf=True)),\n",
       "                (&#x27;clf&#x27;, MultinomialNB())])</pre></div></div></div><div class=\"sk-serial\"><div class=\"sk-item\"><div class=\"sk-estimator sk-toggleable\"><input class=\"sk-toggleable__control sk-hidden--visually\" id=\"sk-estimator-id-65\" type=\"checkbox\" ><label for=\"sk-estimator-id-65\" class=\"sk-toggleable__label sk-toggleable__label-arrow\">TfidfVectorizer</label><div class=\"sk-toggleable__content\"><pre>TfidfVectorizer(max_df=0.95, ngram_range=(1, 3), stop_words=&#x27;english&#x27;,\n",
       "                strip_accents=&#x27;unicode&#x27;, sublinear_tf=True)</pre></div></div></div><div class=\"sk-item\"><div class=\"sk-estimator sk-toggleable\"><input class=\"sk-toggleable__control sk-hidden--visually\" id=\"sk-estimator-id-66\" type=\"checkbox\" ><label for=\"sk-estimator-id-66\" class=\"sk-toggleable__label sk-toggleable__label-arrow\">MultinomialNB</label><div class=\"sk-toggleable__content\"><pre>MultinomialNB()</pre></div></div></div></div></div></div></div>"
      ],
      "text/plain": [
       "Pipeline(steps=[('tfidf',\n",
       "                 TfidfVectorizer(max_df=0.95, ngram_range=(1, 3),\n",
       "                                 stop_words='english', strip_accents='unicode',\n",
       "                                 sublinear_tf=True)),\n",
       "                ('clf', MultinomialNB())])"
      ]
     },
     "execution_count": 206,
     "metadata": {},
     "output_type": "execute_result"
    }
   ],
   "source": [
    "# --- PIPELINE ---\n",
    "from sklearn.pipeline import Pipeline\n",
    "from sklearn.feature_extraction.text import TfidfVectorizer\n",
    "from sklearn.naive_bayes import MultinomialNB\n",
    "\n",
    "nb_pipeline = Pipeline([\n",
    "    ('tfidf', TfidfVectorizer(\n",
    "        max_df=0.95,\n",
    "        min_df=1,\n",
    "        ngram_range=(1,3),\n",
    "        stop_words='english',\n",
    "        sublinear_tf=True,\n",
    "        strip_accents='unicode',\n",
    "        lowercase=True\n",
    "    )),\n",
    "    ('clf', MultinomialNB())\n",
    "])\n",
    "nb_pipeline.fit(X_train, y_train)"
   ]
  },
  {
   "cell_type": "code",
   "execution_count": 207,
   "id": "6c30b377",
   "metadata": {},
   "outputs": [
    {
     "name": "stdout",
     "output_type": "stream",
     "text": [
      "Sample filtered features (first 20):\n",
      "['TM', 'TM client', 'TM client hours', 'TM new', 'TM new internet', 'TM shown', 'TM shown boost', '_25 times', '_25 times mac', '_8j7b', '_8j7bjk', '_8j7bjk9', '_8j7bjk9 tg', '_8j7bjk9 tg0bk5nkiys', '_8j7bjk9 tg0bk5nkiys5', '_8j7bjk9 tg0bk5nkiys5 deathtospamdeathtospamdeathtospam', '__ navel', '__ navel gazing', '__ weekly', '__ weekly high']\n"
     ]
    }
   ],
   "source": [
    "# --- GET & FILTER FEATURES ---\n",
    "features = nb_pipeline.named_steps['tfidf'].get_feature_names_out()\n",
    "filtered_features = [f for f in features if re.search(r'[a-zA-Z]', f) and not re.match(r'^\\d', f)]\n",
    "print(\"Sample filtered features (first 20):\")\n",
    "print(filtered_features[:20])"
   ]
  },
  {
   "cell_type": "code",
   "execution_count": 208,
   "id": "eebb396d",
   "metadata": {},
   "outputs": [
    {
     "name": "stdout",
     "output_type": "stream",
     "text": [
      "\n",
      "Top 50 most common single words in spam emails:\n",
      "['the', 'to', 'and', 'of', 'you', 'a', 'your', 'for', 'in', '.', 'is', '-', 'this', '$', ',', 'I', 'or', 'that', 'with', 'are', 'on', 'be', 'will', 'have', 'from', 'our', 'as', 'it', 'can', 'The', 'by', 'not', 'at', 'email', 'We', 'This', 'all', 'You', 'an', 'we', '%', 'If', 'To', 'my', '&', '#', 'out', 'get', 'more', '*']\n",
      "\n",
      "Dataset-extracted spammy features in your vocabulary:\n",
      "['email']\n"
     ]
    }
   ],
   "source": [
    "# --- EXTRACT MOST COMMON \"SPAMMY\" WORDS FROM SPAM DATA ---\n",
    "spam_texts = df[df['label'] == 1]['cleaned_text']\n",
    "all_spam_words = \" \".join(spam_texts).split()\n",
    "spam_word_counts = Counter(all_spam_words)\n",
    "top_spammy_words = [word for word, count in spam_word_counts.most_common(50)]\n",
    "print(\"\\nTop 50 most common single words in spam emails:\")\n",
    "print(top_spammy_words)\n",
    "\n",
    "# --- WHICH DATA-DRIVEN \"SPAMMY\" WORDS ARE IN FEATURES? ---\n",
    "found_spammy_features = [word for word in filtered_features if word in top_spammy_words]\n",
    "print(\"\\nDataset-extracted spammy features in your vocabulary:\")\n",
    "print(found_spammy_features)\n"
   ]
  },
  {
   "cell_type": "code",
   "execution_count": 209,
   "id": "57e4869d",
   "metadata": {},
   "outputs": [
    {
     "name": "stdout",
     "output_type": "stream",
     "text": [
      "\n",
      "Top 50 most common n-grams in spam emails:\n",
      "['com', 'free', 'http', 'email', 'click', 'money', 'business', 'www', 'mail', 'http www', 'list', 'information', 'time', 'people', 'just', 'new', 'net', 'make', 'address', 'order', 'send', 'receive', 'home', 'report', 'internet', 'want', 'remove', 'credit', 'like', 'program', 'don', 'use', 'company', 'removed', 'government', 'site', 'work', 'web', 'offer', 'mailing', 'life', 'need', 'best', 'help', 'today', 'million', 'day', 'lists', 'subject', 'marketing']\n",
      "\n",
      "Dataset-extracted spammy n-gram features in your vocabulary:\n",
      "['address', 'best', 'business', 'click', 'com', 'company', 'credit', 'day', 'don', 'email', 'free', 'government', 'help', 'home', 'http', 'http www', 'information', 'internet', 'just', 'life', 'like', 'list', 'lists', 'mail', 'mailing', 'make', 'marketing', 'million', 'money', 'need', 'net', 'new', 'offer', 'order', 'people', 'program', 'receive', 'remove', 'removed', 'report', 'send', 'site', 'subject', 'time', 'today', 'use', 'want', 'web', 'work', 'www']\n"
     ]
    }
   ],
   "source": [
    "# --- OPTIONAL: GET TOP SPAMMY N-GRAMS FROM DATA ---\n",
    "# (Uses your vectorizer's analyzer for exact n-grams)\n",
    "tfidf_vec = nb_pipeline.named_steps['tfidf']\n",
    "analyzer = tfidf_vec.build_analyzer()\n",
    "all_spam_ngrams = []\n",
    "for txt in spam_texts:\n",
    "    all_spam_ngrams.extend(analyzer(txt))\n",
    "spam_ngram_counts = Counter(all_spam_ngrams)\n",
    "top_spammy_ngrams = [ng for ng, count in spam_ngram_counts.most_common(50)]\n",
    "print(\"\\nTop 50 most common n-grams in spam emails:\")\n",
    "print(top_spammy_ngrams)\n",
    "found_spammy_ngram_features = [ng for ng in filtered_features if ng in top_spammy_ngrams]\n",
    "print(\"\\nDataset-extracted spammy n-gram features in your vocabulary:\")\n",
    "print(found_spammy_ngram_features)"
   ]
  },
  {
   "cell_type": "code",
   "execution_count": 210,
   "id": "313751b2",
   "metadata": {},
   "outputs": [
    {
     "name": "stdout",
     "output_type": "stream",
     "text": [
      "\n",
      "Classification Report:\n",
      "\n",
      "              precision    recall  f1-score   support\n",
      "\n",
      "           0     0.9709    1.0000    0.9852       500\n",
      "           1     1.0000    0.9600    0.9796       375\n",
      "\n",
      "    accuracy                         0.9829       875\n",
      "   macro avg     0.9854    0.9800    0.9824       875\n",
      "weighted avg     0.9834    0.9829    0.9828       875\n",
      "\n"
     ]
    },
    {
     "data": {
      "image/png": "[encoded data removed]",
      "text/plain": [
       "<Figure size 640x480 with 2 Axes>"
      ]
     },
     "metadata": {},
     "output_type": "display_data"
    }
   ],
   "source": [
    "# --- EVALUATE ---\n",
    "from sklearn.metrics import classification_report, confusion_matrix, ConfusionMatrixDisplay\n",
    "import matplotlib.pyplot as plt\n",
    "\n",
    "y_pred_nb = nb_pipeline.predict(X_test)\n",
    "print(\"\\nClassification Report:\\n\")\n",
    "print(classification_report(y_test, y_pred_nb, digits=4))\n",
    "\n",
    "cm = confusion_matrix(y_test, y_pred_nb)\n",
    "disp = ConfusionMatrixDisplay(confusion_matrix=cm)\n",
    "disp.plot(cmap='Blues')\n",
    "plt.title(\"Confusion Matrix (Naive Bayes)\")\n",
    "plt.show()"
   ]
  },
  {
   "cell_type": "code",
   "execution_count": 211,
   "id": "0378822a",
   "metadata": {},
   "outputs": [
    {
     "name": "stdout",
     "output_type": "stream",
     "text": [
      "✅ Naive Bayes model saved as 'spam_detector_nb_model.pkl'\n",
      "✅ False negatives saved to: false_negatives.txt\n"
     ]
    }
   ],
   "source": [
    "# --- SAVE MODEL ---\n",
    "import joblib\n",
    "joblib.dump(nb_pipeline, \"spam_detector_nb_model.pkl\")\n",
    "print(\"✅ Naive Bayes model saved as 'spam_detector_nb_model.pkl'\")\n",
    "\n",
    "# --- ANALYZE FALSE NEGATIVES (Missed Spam) ---\n",
    "false_negatives_idx = np.where((y_test.values == 1) & (y_pred_nb == 0))[0]\n",
    "filename = \"false_negatives.txt\"\n",
    "with open(filename, \"w\", encoding=\"utf-8\") as f:\n",
    "    f.write(f\"Total false negatives (missed spam): {len(false_negatives_idx)}\\n\\n\")\n",
    "    for idx in false_negatives_idx:\n",
    "        orig_idx = X_test.index[idx]\n",
    "        f.write(f\"--- Email index in test set: {idx} ---\\n\")\n",
    "        f.write(f\"Email Subject: {df.iloc[orig_idx]['subject']}\\n\")\n",
    "        f.write(f\"Email Text: {df.iloc[orig_idx]['combined_text']}\\n\")\n",
    "        f.write(f\"Actual Label: Spam\\n\")\n",
    "        f.write(f\"Predicted Label: Ham\\n\")\n",
    "        f.write(\"-\" * 50 + \"\\n\")\n",
    "print(f\"✅ False negatives saved to: {filename}\")"
   ]
  },
  {
   "cell_type": "code",
   "execution_count": 212,
   "id": "fee56d3c",
   "metadata": {},
   "outputs": [
    {
     "name": "stdout",
     "output_type": "stream",
     "text": [
      "\n",
      "Testing batch of sample emails with Naive Bayes...\n",
      "\n",
      "Email 1\n",
      "Subject: Team Meeting Reminder\n",
      "Prediction: Ham\n",
      "----------------------------------------\n",
      "Email 2\n",
      "Subject: Invoice Attached\n",
      "Prediction: Ham\n",
      "----------------------------------------\n",
      "Email 3\n",
      "Subject: Assignment Feedback\n",
      "Prediction: Ham\n",
      "----------------------------------------\n",
      "Email 4\n",
      "Subject: Lunch Plans?\n",
      "Prediction: Ham\n",
      "----------------------------------------\n",
      "Email 5\n",
      "Subject: URGENT: Account Locked\n",
      "Prediction: Spam\n",
      "----------------------------------------\n",
      "Email 6\n",
      "Subject: Your payment has been confirmed\n",
      "Prediction: Ham\n",
      "----------------------------------------\n",
      "Email 7\n",
      "Subject: Your input Matters: Where did you find us?\n",
      "Prediction: Spam\n",
      "----------------------------------------\n"
     ]
    }
   ],
   "source": [
    "# --- TEST SAMPLE EMAILS ---\n",
    "nb_pipeline = joblib.load(\"spam_detector_nb_model.pkl\")\n",
    "sample_emails = [\n",
    "    {\"subject\": \"Team Meeting Reminder\", \"body\": \"Dear team, this is a reminder for our meeting tomorrow at 10am in room 305.\"},\n",
    "    {\"subject\": \"Invoice Attached\", \"body\": \"Hi, please find attached the invoice for last month. Let me know if you have any questions.\"},\n",
    "    {\"subject\": \"Assignment Feedback\", \"body\": \"Your assignment has been marked. Please check the portal for your grade and feedback.\"},\n",
    "    {\"subject\": \"Lunch Plans?\", \"body\": \"Hey, are you free for lunch today at 1pm? Let me know!\"},\n",
    "    {\"subject\": \"URGENT: Account Locked\", \"body\": \"Your account is locked. Verify your info here: http://phishingsite.com\"},\n",
    "    {\"subject\": \"Your payment has been confirmed\", \"body\": \"Baseus Presenter Wireless Laser Pointer 2.4GHz Remote Controller for Mac 1 item from Shopee Delivered today Order number 250512NXGU9D17\"},\n",
    "    {\"subject\": \"Your input Matters: Where did you find us?\", \"body\": \"Dear customer, Thank you for choosing Toyota! Your trust means the world to us. To help us serve you better, we’d love to get your feedback. Please take a moment to complete a short survey by clicking the link here. Your input will help us enhance our services and improve your overall experience. We promise it will only take a brief of your time. Thank you for your time and continued support! Best regards,   Toyota Customer Relations Team\"},\n",
    "]\n",
    "print(\"\\nTesting batch of sample emails with Naive Bayes...\\n\")\n",
    "for i, email in enumerate(sample_emails, 1):\n",
    "    combined_text = clean_text(email['subject'] + ' ' + email['body'])\n",
    "    prediction = nb_pipeline.predict([combined_text])[0]\n",
    "    print(f\"Email {i}\")\n",
    "    print(\"Subject:\", email['subject'])\n",
    "    print(\"Prediction:\", \"Spam\" if prediction == 1 else \"Ham\")\n",
    "    print(\"-\" * 40)"
   ]
  }
 ],
 "metadata": {
  "kernelspec": {
   "display_name": "Python 3",
   "language": "python",
   "name": "python3"
  },
  "language_info": {
   "codemirror_mode": {
    "name": "ipython",
    "version": 3
   },
   "file_extension": ".py",
   "mimetype": "text/x-python",
   "name": "python",
   "nbconvert_exporter": "python",
   "pygments_lexer": "ipython3",
   "version": "3.11.5"
  }
 },
 "nbformat": 4,
 "nbformat_minor": 5
}
